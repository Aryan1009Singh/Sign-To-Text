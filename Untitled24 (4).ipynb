{
 "cells": [
  {
   "cell_type": "code",
   "execution_count": 1,
   "id": "13a7bc9e",
   "metadata": {},
   "outputs": [],
   "source": [
    "import numpy as np \n",
    "import pandas as pd\n",
    "import os\n",
    "import tensorflow as tf\n",
    "from tensorflow import keras\n",
    "from tensorflow.keras import layers\n",
    "from tensorflow.keras.models import Sequential\n",
    "\n",
    "from keras.preprocessing.image import ImageDataGenerator"
   ]
  },
  {
   "cell_type": "code",
   "execution_count": 2,
   "id": "6075169b",
   "metadata": {},
   "outputs": [],
   "source": [
    "datagen = ImageDataGenerator(rescale=1./255,\n",
    "                            validation_split = 0.1,rotation_range=30,\n",
    "                                    width_shift_range=0.2,\n",
    "                                    height_shift_range=0.2,\n",
    "                                    shear_range=0.2,\n",
    "                                    zoom_range=0.2,\n",
    "                                    horizontal_flip=True,\n",
    "                                    fill_mode='nearest')"
   ]
  },
  {
   "cell_type": "code",
   "execution_count": 3,
   "id": "906247f6",
   "metadata": {},
   "outputs": [
    {
     "name": "stdout",
     "output_type": "stream",
     "text": [
      "Found 78300 images belonging to 29 classes.\n"
     ]
    }
   ],
   "source": [
    "train_ds  = datagen.flow_from_directory(\n",
    "        'Documents/asl_alphabet_train/asl_alphabet_train',\n",
    "        target_size=(100, 100),\n",
    "        batch_size=1024,\n",
    "        subset='training',\n",
    "        class_mode='categorical')"
   ]
  },
  {
   "cell_type": "code",
   "execution_count": 4,
   "id": "333dd9de",
   "metadata": {},
   "outputs": [
    {
     "name": "stdout",
     "output_type": "stream",
     "text": [
      "Found 8700 images belonging to 29 classes.\n"
     ]
    }
   ],
   "source": [
    "val_ds  = datagen.flow_from_directory(\n",
    "         'Documents/asl_alphabet_train/asl_alphabet_train',\n",
    "        target_size=(100, 100),\n",
    "        batch_size=1024,\n",
    "        subset='validation',\n",
    "        class_mode='categorical')"
   ]
  },
  {
   "cell_type": "code",
   "execution_count": 5,
   "id": "1b420178",
   "metadata": {},
   "outputs": [
    {
     "data": {
      "text/plain": [
       "((1024, 100, 100, 3), (1024, 29))"
      ]
     },
     "execution_count": 5,
     "metadata": {},
     "output_type": "execute_result"
    }
   ],
   "source": [
    "img, lab = next(iter(train_ds ))\n",
    "img.shape, lab.shape\n",
    "\n",
    "\n"
   ]
  },
  {
   "cell_type": "code",
   "execution_count": null,
   "id": "a8e9e21c",
   "metadata": {},
   "outputs": [],
   "source": []
  },
  {
   "cell_type": "code",
   "execution_count": 6,
   "id": "3207acf6",
   "metadata": {},
   "outputs": [
    {
     "data": {
      "text/plain": [
       "29"
      ]
     },
     "execution_count": 6,
     "metadata": {},
     "output_type": "execute_result"
    }
   ],
   "source": [
    "class_indices = train_ds.class_indices\n",
    "len(class_indices)"
   ]
  },
  {
   "cell_type": "code",
   "execution_count": 8,
   "id": "66d20040",
   "metadata": {},
   "outputs": [
    {
     "name": "stdout",
     "output_type": "stream",
     "text": [
      "Model: \"sequential_1\"\n",
      "_________________________________________________________________\n",
      "Layer (type)                 Output Shape              Param #   \n",
      "=================================================================\n",
      "conv2d_3 (Conv2D)            (None, 98, 98, 16)        448       \n",
      "_________________________________________________________________\n",
      "max_pooling2d_3 (MaxPooling2 (None, 32, 32, 16)        0         \n",
      "_________________________________________________________________\n",
      "conv2d_4 (Conv2D)            (None, 30, 30, 32)        4640      \n",
      "_________________________________________________________________\n",
      "max_pooling2d_4 (MaxPooling2 (None, 10, 10, 32)        0         \n",
      "_________________________________________________________________\n",
      "conv2d_5 (Conv2D)            (None, 8, 8, 64)          18496     \n",
      "_________________________________________________________________\n",
      "max_pooling2d_5 (MaxPooling2 (None, 2, 2, 64)          0         \n",
      "_________________________________________________________________\n",
      "batch_normalization (BatchNo (None, 2, 2, 64)          256       \n",
      "_________________________________________________________________\n",
      "flatten (Flatten)            (None, 256)               0         \n",
      "_________________________________________________________________\n",
      "dense (Dense)                (None, 500)               128500    \n",
      "_________________________________________________________________\n",
      "dropout (Dropout)            (None, 500)               0         \n",
      "_________________________________________________________________\n",
      "batch_normalization_1 (Batch (None, 500)               2000      \n",
      "_________________________________________________________________\n",
      "dense_1 (Dense)              (None, 100)               50100     \n",
      "_________________________________________________________________\n",
      "dropout_1 (Dropout)          (None, 100)               0         \n",
      "_________________________________________________________________\n",
      "batch_normalization_2 (Batch (None, 100)               400       \n",
      "_________________________________________________________________\n",
      "dense_2 (Dense)              (None, 29)                2929      \n",
      "=================================================================\n",
      "Total params: 207,769\n",
      "Trainable params: 206,441\n",
      "Non-trainable params: 1,328\n",
      "_________________________________________________________________\n"
     ]
    }
   ],
   "source": [
    "from tensorflow import keras\n",
    "from keras.models import Sequential\n",
    "from keras.layers import Conv2D, MaxPool2D, Flatten, Dropout, Dense,Activation,BatchNormalization,GlobalAveragePooling2D\n",
    "from keras.layers import MaxPooling2D\n",
    "from tensorflow.keras import Model, Input\n",
    "model = Sequential()\n",
    "\n",
    "#1 conv layer\n",
    "model.add(Conv2D(filters = 16, kernel_size = 3, activation = \"relu\",input_shape=(100,100,3)))\n",
    "\n",
    "#1 max pool layer\n",
    "model.add(MaxPooling2D(pool_size = 3))\n",
    "\n",
    "#2 conv layer\n",
    "model.add(Conv2D(filters = 32, kernel_size = 3, activation = \"relu\"))\n",
    "\n",
    "#2 max pool layer\n",
    "model.add(MaxPooling2D(pool_size = 3))\n",
    "\n",
    "#3 conv layer\n",
    "model.add(Conv2D(filters = 64, kernel_size = 3, activation = \"relu\"))\n",
    "#3 max pool layer\n",
    "model.add(MaxPooling2D(pool_size = 3))\n",
    "\n",
    "model.add(BatchNormalization())\n",
    "\n",
    "model.add(Flatten())\n",
    "\n",
    "#1 dense layer\n",
    "model.add(Dense(500, input_shape = (100,100,3), activation = \"relu\"))\n",
    "\n",
    "model.add(Dropout(0.3))\n",
    "\n",
    "model.add(BatchNormalization())\n",
    "\n",
    "#2 dense layer\n",
    "model.add(Dense(100, activation = \"relu\"))\n",
    "\n",
    "model.add(Dropout(0.3))\n",
    "\n",
    "model.add(BatchNormalization())\n",
    "\n",
    "#output layer\n",
    "model.add(Dense(29,activation=\"softmax\"))\n",
    "\n",
    "model.summary()"
   ]
  },
  {
   "cell_type": "code",
   "execution_count": 9,
   "id": "b94aa16e",
   "metadata": {},
   "outputs": [],
   "source": [
    "model.compile(optimizer=\"RMSprop\",loss='sparse_categorical_crossentropy',metrics=['accuracy'])"
   ]
  },
  {
   "cell_type": "code",
   "execution_count": 10,
   "id": "778142a3",
   "metadata": {},
   "outputs": [
    {
     "name": "stdout",
     "output_type": "stream",
     "text": [
      "Epoch 1/10\n",
      "77/77 [==============================] - 395s 5s/step - loss: 3.0877 - accuracy: 0.1507 - val_loss: 3.3768 - val_accuracy: 0.0561\n",
      "Epoch 2/10\n",
      "77/77 [==============================] - 261s 3s/step - loss: 2.3608 - accuracy: 0.2937 - val_loss: 3.4811 - val_accuracy: 0.0372\n",
      "Epoch 3/10\n",
      "77/77 [==============================] - 257s 3s/step - loss: 1.9562 - accuracy: 0.3959 - val_loss: 3.7047 - val_accuracy: 0.0363\n",
      "Epoch 4/10\n",
      "77/77 [==============================] - 250s 3s/step - loss: 1.6894 - accuracy: 0.4686 - val_loss: 3.7618 - val_accuracy: 0.0368\n",
      "Epoch 5/10\n",
      "77/77 [==============================] - 251s 3s/step - loss: 1.4830 - accuracy: 0.5260 - val_loss: 3.6013 - val_accuracy: 0.0501\n",
      "Epoch 6/10\n",
      "77/77 [==============================] - 252s 3s/step - loss: 1.3336 - accuracy: 0.5691 - val_loss: 3.1207 - val_accuracy: 0.1418\n",
      "Epoch 7/10\n",
      "77/77 [==============================] - 253s 3s/step - loss: 1.2267 - accuracy: 0.6025 - val_loss: 2.6493 - val_accuracy: 0.2614\n",
      "Epoch 8/10\n",
      "77/77 [==============================] - 260s 3s/step - loss: 1.1256 - accuracy: 0.6316 - val_loss: 1.8712 - val_accuracy: 0.4134\n",
      "Epoch 9/10\n",
      "77/77 [==============================] - 257s 3s/step - loss: 1.0489 - accuracy: 0.6554 - val_loss: 1.5093 - val_accuracy: 0.4848\n",
      "Epoch 10/10\n",
      "77/77 [==============================] - 264s 3s/step - loss: 0.9776 - accuracy: 0.6772 - val_loss: 1.4225 - val_accuracy: 0.5138\n"
     ]
    }
   ],
   "source": [
    "from tensorflow.keras.callbacks import EarlyStopping, ModelCheckpoint\n",
    "early_stop = EarlyStopping(monitor='val_loss',patience=5)\n",
    "\n",
    "batch_size=100\n",
    "epochs=10\n",
    "\n",
    "history = model.fit(train_ds,\n",
    "                    epochs=epochs,\n",
    "                    verbose=1,\n",
    "                    validation_data=val_ds,\n",
    "                    callbacks = [early_stop])"
   ]
  },
  {
   "cell_type": "code",
   "execution_count": null,
   "id": "f9a92942",
   "metadata": {},
   "outputs": [],
   "source": []
  }
 ],
 "metadata": {
  "kernelspec": {
   "display_name": "Python 3",
   "language": "python",
   "name": "python3"
  },
  "language_info": {
   "codemirror_mode": {
    "name": "ipython",
    "version": 3
   },
   "file_extension": ".py",
   "mimetype": "text/x-python",
   "name": "python",
   "nbconvert_exporter": "python",
   "pygments_lexer": "ipython3",
   "version": "3.8.8"
  }
 },
 "nbformat": 4,
 "nbformat_minor": 5
}
